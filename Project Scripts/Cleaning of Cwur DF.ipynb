{
 "cells": [
  {
   "cell_type": "markdown",
   "id": "7e7f4a25",
   "metadata": {},
   "source": [
    "This document is to clean the cwur df for analysis. "
   ]
  },
  {
   "cell_type": "markdown",
   "id": "4560ee86",
   "metadata": {},
   "source": [
    "Import libraries and df"
   ]
  },
  {
   "cell_type": "code",
   "execution_count": 1,
   "id": "438c6f8e",
   "metadata": {},
   "outputs": [],
   "source": [
    "import pandas as pd\n",
    "import numpy as np\n",
    "import os\n",
    "import pycountry_convert as pc"
   ]
  },
  {
   "cell_type": "code",
   "execution_count": 2,
   "id": "19c6a239",
   "metadata": {},
   "outputs": [],
   "source": [
    "pd.options.display.max_columns = None\n",
    "pd.options.display.max_rows = None"
   ]
  },
  {
   "cell_type": "code",
   "execution_count": 3,
   "id": "bd581e2d",
   "metadata": {},
   "outputs": [],
   "source": [
    "path = r'C:\\Users\\justi\\University Scores'"
   ]
  },
  {
   "cell_type": "code",
   "execution_count": 4,
   "id": "d072b597",
   "metadata": {},
   "outputs": [],
   "source": [
    "df = pd.read_csv(os.path.join(path, 'Original Data', 'World University Rankings', 'cwurData.csv'), index_col = False)"
   ]
  },
  {
   "cell_type": "code",
   "execution_count": 5,
   "id": "74b6d0b9",
   "metadata": {},
   "outputs": [
    {
     "data": {
      "text/html": [
       "<div>\n",
       "<style scoped>\n",
       "    .dataframe tbody tr th:only-of-type {\n",
       "        vertical-align: middle;\n",
       "    }\n",
       "\n",
       "    .dataframe tbody tr th {\n",
       "        vertical-align: top;\n",
       "    }\n",
       "\n",
       "    .dataframe thead th {\n",
       "        text-align: right;\n",
       "    }\n",
       "</style>\n",
       "<table border=\"1\" class=\"dataframe\">\n",
       "  <thead>\n",
       "    <tr style=\"text-align: right;\">\n",
       "      <th></th>\n",
       "      <th>world_rank</th>\n",
       "      <th>institution</th>\n",
       "      <th>country</th>\n",
       "      <th>national_rank</th>\n",
       "      <th>quality_of_education</th>\n",
       "      <th>alumni_employment</th>\n",
       "      <th>quality_of_faculty</th>\n",
       "      <th>publications</th>\n",
       "      <th>influence</th>\n",
       "      <th>citations</th>\n",
       "      <th>broad_impact</th>\n",
       "      <th>patents</th>\n",
       "      <th>score</th>\n",
       "      <th>year</th>\n",
       "    </tr>\n",
       "  </thead>\n",
       "  <tbody>\n",
       "    <tr>\n",
       "      <th>0</th>\n",
       "      <td>1</td>\n",
       "      <td>Harvard University</td>\n",
       "      <td>USA</td>\n",
       "      <td>1</td>\n",
       "      <td>7</td>\n",
       "      <td>9</td>\n",
       "      <td>1</td>\n",
       "      <td>1</td>\n",
       "      <td>1</td>\n",
       "      <td>1</td>\n",
       "      <td>NaN</td>\n",
       "      <td>5</td>\n",
       "      <td>100.00</td>\n",
       "      <td>2012</td>\n",
       "    </tr>\n",
       "    <tr>\n",
       "      <th>1</th>\n",
       "      <td>2</td>\n",
       "      <td>Massachusetts Institute of Technology</td>\n",
       "      <td>USA</td>\n",
       "      <td>2</td>\n",
       "      <td>9</td>\n",
       "      <td>17</td>\n",
       "      <td>3</td>\n",
       "      <td>12</td>\n",
       "      <td>4</td>\n",
       "      <td>4</td>\n",
       "      <td>NaN</td>\n",
       "      <td>1</td>\n",
       "      <td>91.67</td>\n",
       "      <td>2012</td>\n",
       "    </tr>\n",
       "    <tr>\n",
       "      <th>2</th>\n",
       "      <td>3</td>\n",
       "      <td>Stanford University</td>\n",
       "      <td>USA</td>\n",
       "      <td>3</td>\n",
       "      <td>17</td>\n",
       "      <td>11</td>\n",
       "      <td>5</td>\n",
       "      <td>4</td>\n",
       "      <td>2</td>\n",
       "      <td>2</td>\n",
       "      <td>NaN</td>\n",
       "      <td>15</td>\n",
       "      <td>89.50</td>\n",
       "      <td>2012</td>\n",
       "    </tr>\n",
       "    <tr>\n",
       "      <th>3</th>\n",
       "      <td>4</td>\n",
       "      <td>University of Cambridge</td>\n",
       "      <td>United Kingdom</td>\n",
       "      <td>1</td>\n",
       "      <td>10</td>\n",
       "      <td>24</td>\n",
       "      <td>4</td>\n",
       "      <td>16</td>\n",
       "      <td>16</td>\n",
       "      <td>11</td>\n",
       "      <td>NaN</td>\n",
       "      <td>50</td>\n",
       "      <td>86.17</td>\n",
       "      <td>2012</td>\n",
       "    </tr>\n",
       "    <tr>\n",
       "      <th>4</th>\n",
       "      <td>5</td>\n",
       "      <td>California Institute of Technology</td>\n",
       "      <td>USA</td>\n",
       "      <td>4</td>\n",
       "      <td>2</td>\n",
       "      <td>29</td>\n",
       "      <td>7</td>\n",
       "      <td>37</td>\n",
       "      <td>22</td>\n",
       "      <td>22</td>\n",
       "      <td>NaN</td>\n",
       "      <td>18</td>\n",
       "      <td>85.21</td>\n",
       "      <td>2012</td>\n",
       "    </tr>\n",
       "  </tbody>\n",
       "</table>\n",
       "</div>"
      ],
      "text/plain": [
       "   world_rank                            institution         country  \\\n",
       "0           1                     Harvard University             USA   \n",
       "1           2  Massachusetts Institute of Technology             USA   \n",
       "2           3                    Stanford University             USA   \n",
       "3           4                University of Cambridge  United Kingdom   \n",
       "4           5     California Institute of Technology             USA   \n",
       "\n",
       "   national_rank  quality_of_education  alumni_employment  quality_of_faculty  \\\n",
       "0              1                     7                  9                   1   \n",
       "1              2                     9                 17                   3   \n",
       "2              3                    17                 11                   5   \n",
       "3              1                    10                 24                   4   \n",
       "4              4                     2                 29                   7   \n",
       "\n",
       "   publications  influence  citations  broad_impact  patents   score  year  \n",
       "0             1          1          1           NaN        5  100.00  2012  \n",
       "1            12          4          4           NaN        1   91.67  2012  \n",
       "2             4          2          2           NaN       15   89.50  2012  \n",
       "3            16         16         11           NaN       50   86.17  2012  \n",
       "4            37         22         22           NaN       18   85.21  2012  "
      ]
     },
     "execution_count": 5,
     "metadata": {},
     "output_type": "execute_result"
    }
   ],
   "source": [
    "df.head()"
   ]
  },
  {
   "cell_type": "code",
   "execution_count": 6,
   "id": "7bc11a42",
   "metadata": {},
   "outputs": [
    {
     "data": {
      "text/plain": [
       "Index(['world_rank', 'institution', 'country', 'national_rank',\n",
       "       'quality_of_education', 'alumni_employment', 'quality_of_faculty',\n",
       "       'publications', 'influence', 'citations', 'broad_impact', 'patents',\n",
       "       'score', 'year'],\n",
       "      dtype='object')"
      ]
     },
     "execution_count": 6,
     "metadata": {},
     "output_type": "execute_result"
    }
   ],
   "source": [
    "df.columns"
   ]
  },
  {
   "cell_type": "markdown",
   "id": "6cb0b080",
   "metadata": {},
   "source": [
    "Rename columns appropriately to correlate with main data set"
   ]
  },
  {
   "cell_type": "code",
   "execution_count": 7,
   "id": "1a6a1b9c",
   "metadata": {},
   "outputs": [],
   "source": [
    "df.rename(columns = {'world_rank' : 'cwur_world_rank'}, inplace = True)\n",
    "df.rename(columns = {'score' : 'cwur_score'}, inplace = True)\n",
    "df.rename(columns = {'national_rank' : 'cwur_national_rank'}, inplace = True)"
   ]
  },
  {
   "cell_type": "markdown",
   "id": "e65abc59",
   "metadata": {},
   "source": [
    "Remove Duplicates"
   ]
  },
  {
   "cell_type": "code",
   "execution_count": 8,
   "id": "0b9b5826",
   "metadata": {},
   "outputs": [
    {
     "data": {
      "text/html": [
       "<div>\n",
       "<style scoped>\n",
       "    .dataframe tbody tr th:only-of-type {\n",
       "        vertical-align: middle;\n",
       "    }\n",
       "\n",
       "    .dataframe tbody tr th {\n",
       "        vertical-align: top;\n",
       "    }\n",
       "\n",
       "    .dataframe thead th {\n",
       "        text-align: right;\n",
       "    }\n",
       "</style>\n",
       "<table border=\"1\" class=\"dataframe\">\n",
       "  <thead>\n",
       "    <tr style=\"text-align: right;\">\n",
       "      <th></th>\n",
       "      <th>cwur_world_rank</th>\n",
       "      <th>institution</th>\n",
       "      <th>country</th>\n",
       "      <th>cwur_national_rank</th>\n",
       "      <th>quality_of_education</th>\n",
       "      <th>alumni_employment</th>\n",
       "      <th>quality_of_faculty</th>\n",
       "      <th>publications</th>\n",
       "      <th>influence</th>\n",
       "      <th>citations</th>\n",
       "      <th>broad_impact</th>\n",
       "      <th>patents</th>\n",
       "      <th>cwur_score</th>\n",
       "      <th>year</th>\n",
       "    </tr>\n",
       "  </thead>\n",
       "  <tbody>\n",
       "  </tbody>\n",
       "</table>\n",
       "</div>"
      ],
      "text/plain": [
       "Empty DataFrame\n",
       "Columns: [cwur_world_rank, institution, country, cwur_national_rank, quality_of_education, alumni_employment, quality_of_faculty, publications, influence, citations, broad_impact, patents, cwur_score, year]\n",
       "Index: []"
      ]
     },
     "execution_count": 8,
     "metadata": {},
     "output_type": "execute_result"
    }
   ],
   "source": [
    "dfsubset = df[df.duplicated()]\n",
    "dfsubset"
   ]
  },
  {
   "cell_type": "markdown",
   "id": "9bf6b6a0",
   "metadata": {},
   "source": [
    "Identifying and making data types uniform"
   ]
  },
  {
   "cell_type": "code",
   "execution_count": 9,
   "id": "de3f6c8d",
   "metadata": {},
   "outputs": [
    {
     "name": "stdout",
     "output_type": "stream",
     "text": [
      "<class 'pandas.core.frame.DataFrame'>\n",
      "RangeIndex: 2200 entries, 0 to 2199\n",
      "Data columns (total 14 columns):\n",
      " #   Column                Non-Null Count  Dtype  \n",
      "---  ------                --------------  -----  \n",
      " 0   cwur_world_rank       2200 non-null   int64  \n",
      " 1   institution           2200 non-null   object \n",
      " 2   country               2200 non-null   object \n",
      " 3   cwur_national_rank    2200 non-null   int64  \n",
      " 4   quality_of_education  2200 non-null   int64  \n",
      " 5   alumni_employment     2200 non-null   int64  \n",
      " 6   quality_of_faculty    2200 non-null   int64  \n",
      " 7   publications          2200 non-null   int64  \n",
      " 8   influence             2200 non-null   int64  \n",
      " 9   citations             2200 non-null   int64  \n",
      " 10  broad_impact          2000 non-null   float64\n",
      " 11  patents               2200 non-null   int64  \n",
      " 12  cwur_score            2200 non-null   float64\n",
      " 13  year                  2200 non-null   int64  \n",
      "dtypes: float64(2), int64(10), object(2)\n",
      "memory usage: 240.8+ KB\n"
     ]
    }
   ],
   "source": [
    "df.info() #all values seem to be the correct format. broad impact has 200 less values which are null values."
   ]
  },
  {
   "cell_type": "code",
   "execution_count": 10,
   "id": "86718c22",
   "metadata": {},
   "outputs": [
    {
     "data": {
      "text/plain": [
       "cwur_world_rank           0\n",
       "institution               0\n",
       "country                   0\n",
       "cwur_national_rank        0\n",
       "quality_of_education      0\n",
       "alumni_employment         0\n",
       "quality_of_faculty        0\n",
       "publications              0\n",
       "influence                 0\n",
       "citations                 0\n",
       "broad_impact            200\n",
       "patents                   0\n",
       "cwur_score                0\n",
       "year                      0\n",
       "dtype: int64"
      ]
     },
     "execution_count": 10,
     "metadata": {},
     "output_type": "execute_result"
    }
   ],
   "source": [
    "df.isnull().sum()"
   ]
  },
  {
   "cell_type": "markdown",
   "id": "d7a871d7",
   "metadata": {},
   "source": [
    "Change country names to match main document"
   ]
  },
  {
   "cell_type": "code",
   "execution_count": 11,
   "id": "ff8bba6f",
   "metadata": {
    "scrolled": false
   },
   "outputs": [
    {
     "data": {
      "text/plain": [
       "USA                     573\n",
       "China                   167\n",
       "Japan                   159\n",
       "United Kingdom          144\n",
       "Germany                 115\n",
       "France                  109\n",
       "Italy                    96\n",
       "Spain                    81\n",
       "Canada                   72\n",
       "South Korea              72\n",
       "Australia                58\n",
       "Taiwan                   46\n",
       "Brazil                   36\n",
       "India                    31\n",
       "Netherlands              29\n",
       "Switzerland              26\n",
       "Sweden                   24\n",
       "Austria                  24\n",
       "Israel                   22\n",
       "Finland                  20\n",
       "Turkey                   20\n",
       "Belgium                  20\n",
       "Poland                   18\n",
       "Iran                     16\n",
       "Ireland                  16\n",
       "Portugal                 14\n",
       "Greece                   14\n",
       "Hong Kong                12\n",
       "Norway                   12\n",
       "New Zealand              12\n",
       "Hungary                  12\n",
       "Denmark                  12\n",
       "South Africa             10\n",
       "Czech Republic           10\n",
       "Russia                    9\n",
       "Saudi Arabia              8\n",
       "Egypt                     8\n",
       "Chile                     8\n",
       "Argentina                 7\n",
       "Thailand                  6\n",
       "Malaysia                  6\n",
       "Singapore                 5\n",
       "Colombia                  4\n",
       "Mexico                    4\n",
       "Slovenia                  4\n",
       "Romania                   3\n",
       "Lebanon                   2\n",
       "Croatia                   2\n",
       "Estonia                   2\n",
       "Slovak Republic           2\n",
       "Iceland                   2\n",
       "Serbia                    2\n",
       "Bulgaria                  2\n",
       "Lithuania                 2\n",
       "Uganda                    2\n",
       "United Arab Emirates      2\n",
       "Uruguay                   2\n",
       "Cyprus                    2\n",
       "Puerto Rico               2\n",
       "Name: country, dtype: int64"
      ]
     },
     "execution_count": 11,
     "metadata": {},
     "output_type": "execute_result"
    }
   ],
   "source": [
    "df['country'].value_counts()"
   ]
  },
  {
   "cell_type": "code",
   "execution_count": 12,
   "id": "2cf2e823",
   "metadata": {},
   "outputs": [],
   "source": [
    "#change puerto rico to united states, change usa to united states of america, change taiwan to china, change hong kong to china\n",
    "df['country'] = df['country'].replace('USA','United States of America', regex=True)\n",
    "df['country'] = df['country'].replace('Hong Kong','China', regex=True)\n",
    "df['country'] = df['country'].replace('Taiwan','China', regex=True)\n",
    "df['country'] = df['country'].replace('Puerto Rico','United States of America', regex=True)"
   ]
  },
  {
   "cell_type": "code",
   "execution_count": 13,
   "id": "3d787f24",
   "metadata": {},
   "outputs": [
    {
     "data": {
      "text/plain": [
       "United States of America    575\n",
       "China                       225\n",
       "Japan                       159\n",
       "United Kingdom              144\n",
       "Germany                     115\n",
       "France                      109\n",
       "Italy                        96\n",
       "Spain                        81\n",
       "Canada                       72\n",
       "South Korea                  72\n",
       "Australia                    58\n",
       "Brazil                       36\n",
       "India                        31\n",
       "Netherlands                  29\n",
       "Switzerland                  26\n",
       "Austria                      24\n",
       "Sweden                       24\n",
       "Israel                       22\n",
       "Belgium                      20\n",
       "Turkey                       20\n",
       "Finland                      20\n",
       "Poland                       18\n",
       "Iran                         16\n",
       "Ireland                      16\n",
       "Portugal                     14\n",
       "Greece                       14\n",
       "New Zealand                  12\n",
       "Hungary                      12\n",
       "Norway                       12\n",
       "Denmark                      12\n",
       "Czech Republic               10\n",
       "South Africa                 10\n",
       "Russia                        9\n",
       "Saudi Arabia                  8\n",
       "Chile                         8\n",
       "Egypt                         8\n",
       "Argentina                     7\n",
       "Malaysia                      6\n",
       "Thailand                      6\n",
       "Singapore                     5\n",
       "Mexico                        4\n",
       "Slovenia                      4\n",
       "Colombia                      4\n",
       "Romania                       3\n",
       "Lebanon                       2\n",
       "Slovak Republic               2\n",
       "Estonia                       2\n",
       "Iceland                       2\n",
       "Serbia                        2\n",
       "Bulgaria                      2\n",
       "Lithuania                     2\n",
       "Uganda                        2\n",
       "United Arab Emirates          2\n",
       "Uruguay                       2\n",
       "Cyprus                        2\n",
       "Croatia                       2\n",
       "Name: country, dtype: int64"
      ]
     },
     "execution_count": 13,
     "metadata": {},
     "output_type": "execute_result"
    }
   ],
   "source": [
    "df['country'].value_counts()"
   ]
  },
  {
   "cell_type": "markdown",
   "id": "37981413",
   "metadata": {},
   "source": [
    "Add flags"
   ]
  },
  {
   "cell_type": "code",
   "execution_count": 14,
   "id": "870d9319",
   "metadata": {},
   "outputs": [
    {
     "data": {
      "text/plain": [
       "1000"
      ]
     },
     "execution_count": 14,
     "metadata": {},
     "output_type": "execute_result"
    }
   ],
   "source": [
    "df['cwur_world_rank'].max()"
   ]
  },
  {
   "cell_type": "code",
   "execution_count": 15,
   "id": "69aad7ac",
   "metadata": {},
   "outputs": [],
   "source": [
    "df.loc[df['cwur_world_rank'] <=100, 'cwur_rank_flag_top_x'] = '100'\n",
    "df.loc[(df['cwur_world_rank'] > 100) & (df['cwur_world_rank'] <= 200), 'cwur_rank_flag_top_x'] = '200'\n",
    "df.loc[(df['cwur_world_rank'] > 200) & (df['cwur_world_rank'] <= 300), 'cwur_rank_flag_top_x'] = '300'\n",
    "df.loc[(df['cwur_world_rank'] > 300) & (df['cwur_world_rank'] <= 400), 'cwur_rank_flag_top_x'] = '400'\n",
    "df.loc[df['cwur_world_rank'] > 400, 'cwur_rank_flag_top_x'] = '1000'"
   ]
  },
  {
   "cell_type": "code",
   "execution_count": 16,
   "id": "238bc49d",
   "metadata": {},
   "outputs": [],
   "source": [
    "df['cwur_rank_flag_top_x'] = df['cwur_rank_flag_top_x'].astype('float64')"
   ]
  },
  {
   "cell_type": "markdown",
   "id": "aac9487e",
   "metadata": {},
   "source": [
    "Create continent column"
   ]
  },
  {
   "cell_type": "code",
   "execution_count": 17,
   "id": "f66dcc05",
   "metadata": {},
   "outputs": [],
   "source": [
    "f = lambda x: pc.country_name_to_country_alpha2(x, cn_name_format = 'default')\n",
    "df['country_code'] = df['country'].apply(f)"
   ]
  },
  {
   "cell_type": "code",
   "execution_count": 18,
   "id": "098ce702",
   "metadata": {},
   "outputs": [],
   "source": [
    "f2 = lambda x: pc.country_alpha2_to_continent_code(x)\n",
    "df['continent_code'] = df['country_code'].apply(f2)"
   ]
  },
  {
   "cell_type": "code",
   "execution_count": 19,
   "id": "8164ae1b",
   "metadata": {},
   "outputs": [
    {
     "data": {
      "text/plain": [
       "EU    826\n",
       "NA    651\n",
       "AS    576\n",
       "OC     70\n",
       "SA     57\n",
       "AF     20\n",
       "Name: continent_code, dtype: int64"
      ]
     },
     "execution_count": 19,
     "metadata": {},
     "output_type": "execute_result"
    }
   ],
   "source": [
    "df['continent_code'].value_counts()"
   ]
  },
  {
   "cell_type": "code",
   "execution_count": 20,
   "id": "bffff7b5",
   "metadata": {},
   "outputs": [
    {
     "name": "stdout",
     "output_type": "stream",
     "text": [
      "<class 'pandas.core.frame.DataFrame'>\n",
      "RangeIndex: 2200 entries, 0 to 2199\n",
      "Data columns (total 17 columns):\n",
      " #   Column                Non-Null Count  Dtype  \n",
      "---  ------                --------------  -----  \n",
      " 0   cwur_world_rank       2200 non-null   int64  \n",
      " 1   institution           2200 non-null   object \n",
      " 2   country               2200 non-null   object \n",
      " 3   cwur_national_rank    2200 non-null   int64  \n",
      " 4   quality_of_education  2200 non-null   int64  \n",
      " 5   alumni_employment     2200 non-null   int64  \n",
      " 6   quality_of_faculty    2200 non-null   int64  \n",
      " 7   publications          2200 non-null   int64  \n",
      " 8   influence             2200 non-null   int64  \n",
      " 9   citations             2200 non-null   int64  \n",
      " 10  broad_impact          2000 non-null   float64\n",
      " 11  patents               2200 non-null   int64  \n",
      " 12  cwur_score            2200 non-null   float64\n",
      " 13  year                  2200 non-null   int64  \n",
      " 14  cwur_rank_flag_top_x  2200 non-null   float64\n",
      " 15  country_code          2200 non-null   object \n",
      " 16  continent_code        2200 non-null   object \n",
      "dtypes: float64(3), int64(10), object(4)\n",
      "memory usage: 292.3+ KB\n"
     ]
    }
   ],
   "source": [
    "df.info()"
   ]
  },
  {
   "cell_type": "code",
   "execution_count": 21,
   "id": "046238d3",
   "metadata": {},
   "outputs": [
    {
     "data": {
      "text/html": [
       "<div>\n",
       "<style scoped>\n",
       "    .dataframe tbody tr th:only-of-type {\n",
       "        vertical-align: middle;\n",
       "    }\n",
       "\n",
       "    .dataframe tbody tr th {\n",
       "        vertical-align: top;\n",
       "    }\n",
       "\n",
       "    .dataframe thead th {\n",
       "        text-align: right;\n",
       "    }\n",
       "</style>\n",
       "<table border=\"1\" class=\"dataframe\">\n",
       "  <thead>\n",
       "    <tr style=\"text-align: right;\">\n",
       "      <th></th>\n",
       "      <th>cwur_world_rank</th>\n",
       "      <th>cwur_national_rank</th>\n",
       "      <th>quality_of_education</th>\n",
       "      <th>alumni_employment</th>\n",
       "      <th>quality_of_faculty</th>\n",
       "      <th>publications</th>\n",
       "      <th>influence</th>\n",
       "      <th>citations</th>\n",
       "      <th>broad_impact</th>\n",
       "      <th>patents</th>\n",
       "      <th>cwur_score</th>\n",
       "      <th>year</th>\n",
       "      <th>cwur_rank_flag_top_x</th>\n",
       "    </tr>\n",
       "  </thead>\n",
       "  <tbody>\n",
       "    <tr>\n",
       "      <th>count</th>\n",
       "      <td>2200.000000</td>\n",
       "      <td>2200.000000</td>\n",
       "      <td>2200.000000</td>\n",
       "      <td>2200.000000</td>\n",
       "      <td>2200.000000</td>\n",
       "      <td>2200.000000</td>\n",
       "      <td>2200.000000</td>\n",
       "      <td>2200.000000</td>\n",
       "      <td>2000.000000</td>\n",
       "      <td>2200.000000</td>\n",
       "      <td>2200.000000</td>\n",
       "      <td>2200.000000</td>\n",
       "      <td>2200.000000</td>\n",
       "    </tr>\n",
       "    <tr>\n",
       "      <th>mean</th>\n",
       "      <td>459.590909</td>\n",
       "      <td>40.278182</td>\n",
       "      <td>275.100455</td>\n",
       "      <td>357.116818</td>\n",
       "      <td>178.888182</td>\n",
       "      <td>459.908636</td>\n",
       "      <td>459.797727</td>\n",
       "      <td>413.417273</td>\n",
       "      <td>496.699500</td>\n",
       "      <td>433.346364</td>\n",
       "      <td>47.798395</td>\n",
       "      <td>2014.318182</td>\n",
       "      <td>645.454545</td>\n",
       "    </tr>\n",
       "    <tr>\n",
       "      <th>std</th>\n",
       "      <td>304.320363</td>\n",
       "      <td>51.740870</td>\n",
       "      <td>121.935100</td>\n",
       "      <td>186.779252</td>\n",
       "      <td>64.050885</td>\n",
       "      <td>303.760352</td>\n",
       "      <td>303.331822</td>\n",
       "      <td>264.366549</td>\n",
       "      <td>286.919755</td>\n",
       "      <td>273.996525</td>\n",
       "      <td>7.760806</td>\n",
       "      <td>0.762130</td>\n",
       "      <td>396.353631</td>\n",
       "    </tr>\n",
       "    <tr>\n",
       "      <th>min</th>\n",
       "      <td>1.000000</td>\n",
       "      <td>1.000000</td>\n",
       "      <td>1.000000</td>\n",
       "      <td>1.000000</td>\n",
       "      <td>1.000000</td>\n",
       "      <td>1.000000</td>\n",
       "      <td>1.000000</td>\n",
       "      <td>1.000000</td>\n",
       "      <td>1.000000</td>\n",
       "      <td>1.000000</td>\n",
       "      <td>43.360000</td>\n",
       "      <td>2012.000000</td>\n",
       "      <td>100.000000</td>\n",
       "    </tr>\n",
       "    <tr>\n",
       "      <th>25%</th>\n",
       "      <td>175.750000</td>\n",
       "      <td>6.000000</td>\n",
       "      <td>175.750000</td>\n",
       "      <td>175.750000</td>\n",
       "      <td>175.750000</td>\n",
       "      <td>175.750000</td>\n",
       "      <td>175.750000</td>\n",
       "      <td>161.000000</td>\n",
       "      <td>250.500000</td>\n",
       "      <td>170.750000</td>\n",
       "      <td>44.460000</td>\n",
       "      <td>2014.000000</td>\n",
       "      <td>200.000000</td>\n",
       "    </tr>\n",
       "    <tr>\n",
       "      <th>50%</th>\n",
       "      <td>450.500000</td>\n",
       "      <td>21.000000</td>\n",
       "      <td>355.000000</td>\n",
       "      <td>450.500000</td>\n",
       "      <td>210.000000</td>\n",
       "      <td>450.500000</td>\n",
       "      <td>450.500000</td>\n",
       "      <td>406.000000</td>\n",
       "      <td>496.000000</td>\n",
       "      <td>426.000000</td>\n",
       "      <td>45.100000</td>\n",
       "      <td>2014.000000</td>\n",
       "      <td>1000.000000</td>\n",
       "    </tr>\n",
       "    <tr>\n",
       "      <th>75%</th>\n",
       "      <td>725.250000</td>\n",
       "      <td>49.000000</td>\n",
       "      <td>367.000000</td>\n",
       "      <td>478.000000</td>\n",
       "      <td>218.000000</td>\n",
       "      <td>725.000000</td>\n",
       "      <td>725.250000</td>\n",
       "      <td>645.000000</td>\n",
       "      <td>741.000000</td>\n",
       "      <td>714.250000</td>\n",
       "      <td>47.545000</td>\n",
       "      <td>2015.000000</td>\n",
       "      <td>1000.000000</td>\n",
       "    </tr>\n",
       "    <tr>\n",
       "      <th>max</th>\n",
       "      <td>1000.000000</td>\n",
       "      <td>229.000000</td>\n",
       "      <td>367.000000</td>\n",
       "      <td>567.000000</td>\n",
       "      <td>218.000000</td>\n",
       "      <td>1000.000000</td>\n",
       "      <td>991.000000</td>\n",
       "      <td>812.000000</td>\n",
       "      <td>1000.000000</td>\n",
       "      <td>871.000000</td>\n",
       "      <td>100.000000</td>\n",
       "      <td>2015.000000</td>\n",
       "      <td>1000.000000</td>\n",
       "    </tr>\n",
       "  </tbody>\n",
       "</table>\n",
       "</div>"
      ],
      "text/plain": [
       "       cwur_world_rank  cwur_national_rank  quality_of_education  \\\n",
       "count      2200.000000         2200.000000           2200.000000   \n",
       "mean        459.590909           40.278182            275.100455   \n",
       "std         304.320363           51.740870            121.935100   \n",
       "min           1.000000            1.000000              1.000000   \n",
       "25%         175.750000            6.000000            175.750000   \n",
       "50%         450.500000           21.000000            355.000000   \n",
       "75%         725.250000           49.000000            367.000000   \n",
       "max        1000.000000          229.000000            367.000000   \n",
       "\n",
       "       alumni_employment  quality_of_faculty  publications    influence  \\\n",
       "count        2200.000000         2200.000000   2200.000000  2200.000000   \n",
       "mean          357.116818          178.888182    459.908636   459.797727   \n",
       "std           186.779252           64.050885    303.760352   303.331822   \n",
       "min             1.000000            1.000000      1.000000     1.000000   \n",
       "25%           175.750000          175.750000    175.750000   175.750000   \n",
       "50%           450.500000          210.000000    450.500000   450.500000   \n",
       "75%           478.000000          218.000000    725.000000   725.250000   \n",
       "max           567.000000          218.000000   1000.000000   991.000000   \n",
       "\n",
       "         citations  broad_impact      patents   cwur_score         year  \\\n",
       "count  2200.000000   2000.000000  2200.000000  2200.000000  2200.000000   \n",
       "mean    413.417273    496.699500   433.346364    47.798395  2014.318182   \n",
       "std     264.366549    286.919755   273.996525     7.760806     0.762130   \n",
       "min       1.000000      1.000000     1.000000    43.360000  2012.000000   \n",
       "25%     161.000000    250.500000   170.750000    44.460000  2014.000000   \n",
       "50%     406.000000    496.000000   426.000000    45.100000  2014.000000   \n",
       "75%     645.000000    741.000000   714.250000    47.545000  2015.000000   \n",
       "max     812.000000   1000.000000   871.000000   100.000000  2015.000000   \n",
       "\n",
       "       cwur_rank_flag_top_x  \n",
       "count           2200.000000  \n",
       "mean             645.454545  \n",
       "std              396.353631  \n",
       "min              100.000000  \n",
       "25%              200.000000  \n",
       "50%             1000.000000  \n",
       "75%             1000.000000  \n",
       "max             1000.000000  "
      ]
     },
     "execution_count": 21,
     "metadata": {},
     "output_type": "execute_result"
    }
   ],
   "source": [
    "df.describe()"
   ]
  },
  {
   "cell_type": "code",
   "execution_count": 22,
   "id": "9d040197",
   "metadata": {},
   "outputs": [
    {
     "data": {
      "text/plain": [
       "2014    1000\n",
       "2015    1000\n",
       "2012     100\n",
       "2013     100\n",
       "Name: year, dtype: int64"
      ]
     },
     "execution_count": 22,
     "metadata": {},
     "output_type": "execute_result"
    }
   ],
   "source": [
    "df['year'].value_counts()"
   ]
  },
  {
   "cell_type": "markdown",
   "id": "24e263ee",
   "metadata": {},
   "source": [
    "Export DF as pickle and csv"
   ]
  },
  {
   "cell_type": "code",
   "execution_count": 23,
   "id": "bc083b97",
   "metadata": {},
   "outputs": [],
   "source": [
    "df.to_pickle(os.path.join(path, 'Prepared Data', 'cwur_df_cleaned.pkl'))"
   ]
  },
  {
   "cell_type": "code",
   "execution_count": 24,
   "id": "a316c444",
   "metadata": {
    "scrolled": true
   },
   "outputs": [],
   "source": [
    "df.to_csv(os.path.join(path, 'Prepared Data', 'cwur_df_cleaned_csv.csv'))"
   ]
  },
  {
   "cell_type": "code",
   "execution_count": null,
   "id": "e8df32f1",
   "metadata": {},
   "outputs": [],
   "source": []
  }
 ],
 "metadata": {
  "kernelspec": {
   "display_name": "Python 3 (ipykernel)",
   "language": "python",
   "name": "python3"
  },
  "language_info": {
   "codemirror_mode": {
    "name": "ipython",
    "version": 3
   },
   "file_extension": ".py",
   "mimetype": "text/x-python",
   "name": "python",
   "nbconvert_exporter": "python",
   "pygments_lexer": "ipython3",
   "version": "3.9.13"
  }
 },
 "nbformat": 4,
 "nbformat_minor": 5
}
