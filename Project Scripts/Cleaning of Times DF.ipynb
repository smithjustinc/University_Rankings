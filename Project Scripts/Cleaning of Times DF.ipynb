{
 "cells": [
  {
   "cell_type": "markdown",
   "id": "46ec4009",
   "metadata": {},
   "source": [
    "This script is used to clean the data of the times df and prepare it for the 6.6 assignment. The final product of this script is a clean and uniform times ranking data frame."
   ]
  },
  {
   "cell_type": "code",
   "execution_count": 1,
   "id": "7d82faa0",
   "metadata": {},
   "outputs": [],
   "source": [
    "import pandas as pd\n",
    "import numpy as np\n",
    "import os\n",
    "import pycountry_convert as pc"
   ]
  },
  {
   "cell_type": "code",
   "execution_count": 2,
   "id": "978a63a3",
   "metadata": {},
   "outputs": [],
   "source": [
    "path = r'C:\\Users\\justi\\University Scores'"
   ]
  },
  {
   "cell_type": "code",
   "execution_count": 3,
   "id": "95c894eb",
   "metadata": {},
   "outputs": [],
   "source": [
    "df = pd.read_csv(os.path.join(path, 'Original Data', 'World University Rankings', 'timesData.csv'), index_col = False)"
   ]
  },
  {
   "cell_type": "code",
   "execution_count": 4,
   "id": "4de56a22",
   "metadata": {},
   "outputs": [
    {
     "data": {
      "text/html": [
       "<div>\n",
       "<style scoped>\n",
       "    .dataframe tbody tr th:only-of-type {\n",
       "        vertical-align: middle;\n",
       "    }\n",
       "\n",
       "    .dataframe tbody tr th {\n",
       "        vertical-align: top;\n",
       "    }\n",
       "\n",
       "    .dataframe thead th {\n",
       "        text-align: right;\n",
       "    }\n",
       "</style>\n",
       "<table border=\"1\" class=\"dataframe\">\n",
       "  <thead>\n",
       "    <tr style=\"text-align: right;\">\n",
       "      <th></th>\n",
       "      <th>world_rank</th>\n",
       "      <th>university_name</th>\n",
       "      <th>country</th>\n",
       "      <th>teaching</th>\n",
       "      <th>international</th>\n",
       "      <th>research</th>\n",
       "      <th>citations</th>\n",
       "      <th>income</th>\n",
       "      <th>total_score</th>\n",
       "      <th>num_students</th>\n",
       "      <th>student_staff_ratio</th>\n",
       "      <th>international_students</th>\n",
       "      <th>female_male_ratio</th>\n",
       "      <th>year</th>\n",
       "    </tr>\n",
       "  </thead>\n",
       "  <tbody>\n",
       "    <tr>\n",
       "      <th>0</th>\n",
       "      <td>1</td>\n",
       "      <td>Harvard University</td>\n",
       "      <td>United States of America</td>\n",
       "      <td>99.7</td>\n",
       "      <td>72.4</td>\n",
       "      <td>98.7</td>\n",
       "      <td>98.8</td>\n",
       "      <td>34.5</td>\n",
       "      <td>96.1</td>\n",
       "      <td>20,152</td>\n",
       "      <td>8.9</td>\n",
       "      <td>25%</td>\n",
       "      <td>NaN</td>\n",
       "      <td>2011</td>\n",
       "    </tr>\n",
       "    <tr>\n",
       "      <th>1</th>\n",
       "      <td>2</td>\n",
       "      <td>California Institute of Technology</td>\n",
       "      <td>United States of America</td>\n",
       "      <td>97.7</td>\n",
       "      <td>54.6</td>\n",
       "      <td>98.0</td>\n",
       "      <td>99.9</td>\n",
       "      <td>83.7</td>\n",
       "      <td>96.0</td>\n",
       "      <td>2,243</td>\n",
       "      <td>6.9</td>\n",
       "      <td>27%</td>\n",
       "      <td>33 : 67</td>\n",
       "      <td>2011</td>\n",
       "    </tr>\n",
       "    <tr>\n",
       "      <th>2</th>\n",
       "      <td>3</td>\n",
       "      <td>Massachusetts Institute of Technology</td>\n",
       "      <td>United States of America</td>\n",
       "      <td>97.8</td>\n",
       "      <td>82.3</td>\n",
       "      <td>91.4</td>\n",
       "      <td>99.9</td>\n",
       "      <td>87.5</td>\n",
       "      <td>95.6</td>\n",
       "      <td>11,074</td>\n",
       "      <td>9.0</td>\n",
       "      <td>33%</td>\n",
       "      <td>37 : 63</td>\n",
       "      <td>2011</td>\n",
       "    </tr>\n",
       "    <tr>\n",
       "      <th>3</th>\n",
       "      <td>4</td>\n",
       "      <td>Stanford University</td>\n",
       "      <td>United States of America</td>\n",
       "      <td>98.3</td>\n",
       "      <td>29.5</td>\n",
       "      <td>98.1</td>\n",
       "      <td>99.2</td>\n",
       "      <td>64.3</td>\n",
       "      <td>94.3</td>\n",
       "      <td>15,596</td>\n",
       "      <td>7.8</td>\n",
       "      <td>22%</td>\n",
       "      <td>42 : 58</td>\n",
       "      <td>2011</td>\n",
       "    </tr>\n",
       "    <tr>\n",
       "      <th>4</th>\n",
       "      <td>5</td>\n",
       "      <td>Princeton University</td>\n",
       "      <td>United States of America</td>\n",
       "      <td>90.9</td>\n",
       "      <td>70.3</td>\n",
       "      <td>95.4</td>\n",
       "      <td>99.9</td>\n",
       "      <td>-</td>\n",
       "      <td>94.2</td>\n",
       "      <td>7,929</td>\n",
       "      <td>8.4</td>\n",
       "      <td>27%</td>\n",
       "      <td>45 : 55</td>\n",
       "      <td>2011</td>\n",
       "    </tr>\n",
       "  </tbody>\n",
       "</table>\n",
       "</div>"
      ],
      "text/plain": [
       "  world_rank                        university_name                   country  \\\n",
       "0          1                     Harvard University  United States of America   \n",
       "1          2     California Institute of Technology  United States of America   \n",
       "2          3  Massachusetts Institute of Technology  United States of America   \n",
       "3          4                    Stanford University  United States of America   \n",
       "4          5                   Princeton University  United States of America   \n",
       "\n",
       "   teaching international  research  citations income total_score  \\\n",
       "0      99.7          72.4      98.7       98.8   34.5        96.1   \n",
       "1      97.7          54.6      98.0       99.9   83.7        96.0   \n",
       "2      97.8          82.3      91.4       99.9   87.5        95.6   \n",
       "3      98.3          29.5      98.1       99.2   64.3        94.3   \n",
       "4      90.9          70.3      95.4       99.9      -        94.2   \n",
       "\n",
       "  num_students  student_staff_ratio international_students female_male_ratio  \\\n",
       "0       20,152                  8.9                    25%               NaN   \n",
       "1        2,243                  6.9                    27%           33 : 67   \n",
       "2       11,074                  9.0                    33%           37 : 63   \n",
       "3       15,596                  7.8                    22%           42 : 58   \n",
       "4        7,929                  8.4                    27%           45 : 55   \n",
       "\n",
       "   year  \n",
       "0  2011  \n",
       "1  2011  \n",
       "2  2011  \n",
       "3  2011  \n",
       "4  2011  "
      ]
     },
     "execution_count": 4,
     "metadata": {},
     "output_type": "execute_result"
    }
   ],
   "source": [
    "df.head()"
   ]
  },
  {
   "cell_type": "markdown",
   "id": "9941685f",
   "metadata": {},
   "source": [
    "Rename Columns Appropriately to correlate with main data set"
   ]
  },
  {
   "cell_type": "code",
   "execution_count": 5,
   "id": "19541768",
   "metadata": {},
   "outputs": [],
   "source": [
    "df.rename(columns = {'university_name' : 'institution'}, inplace = True)\n",
    "df.rename(columns = {'world_rank' : 'times_world_rank'}, inplace = True)\n",
    "df.rename(columns = {'international_students' : 'percentage_international_students'}, inplace = True)\n",
    "df.rename(columns = {'total_score' : 'times_score'}, inplace = True)"
   ]
  },
  {
   "cell_type": "markdown",
   "id": "975f23f9",
   "metadata": {},
   "source": [
    "Removing duplicates"
   ]
  },
  {
   "cell_type": "code",
   "execution_count": 6,
   "id": "9d722de5",
   "metadata": {},
   "outputs": [
    {
     "data": {
      "text/html": [
       "<div>\n",
       "<style scoped>\n",
       "    .dataframe tbody tr th:only-of-type {\n",
       "        vertical-align: middle;\n",
       "    }\n",
       "\n",
       "    .dataframe tbody tr th {\n",
       "        vertical-align: top;\n",
       "    }\n",
       "\n",
       "    .dataframe thead th {\n",
       "        text-align: right;\n",
       "    }\n",
       "</style>\n",
       "<table border=\"1\" class=\"dataframe\">\n",
       "  <thead>\n",
       "    <tr style=\"text-align: right;\">\n",
       "      <th></th>\n",
       "      <th>times_world_rank</th>\n",
       "      <th>institution</th>\n",
       "      <th>country</th>\n",
       "      <th>teaching</th>\n",
       "      <th>international</th>\n",
       "      <th>research</th>\n",
       "      <th>citations</th>\n",
       "      <th>income</th>\n",
       "      <th>times_score</th>\n",
       "      <th>num_students</th>\n",
       "      <th>student_staff_ratio</th>\n",
       "      <th>percentage_international_students</th>\n",
       "      <th>female_male_ratio</th>\n",
       "      <th>year</th>\n",
       "    </tr>\n",
       "  </thead>\n",
       "  <tbody>\n",
       "  </tbody>\n",
       "</table>\n",
       "</div>"
      ],
      "text/plain": [
       "Empty DataFrame\n",
       "Columns: [times_world_rank, institution, country, teaching, international, research, citations, income, times_score, num_students, student_staff_ratio, percentage_international_students, female_male_ratio, year]\n",
       "Index: []"
      ]
     },
     "execution_count": 6,
     "metadata": {},
     "output_type": "execute_result"
    }
   ],
   "source": [
    "dfsubset = df[df.duplicated()]\n",
    "dfsubset"
   ]
  },
  {
   "cell_type": "markdown",
   "id": "9f84eb7f",
   "metadata": {},
   "source": [
    "Identifying Types of data"
   ]
  },
  {
   "cell_type": "code",
   "execution_count": 7,
   "id": "7f26e053",
   "metadata": {
    "scrolled": true
   },
   "outputs": [
    {
     "name": "stdout",
     "output_type": "stream",
     "text": [
      "<class 'pandas.core.frame.DataFrame'>\n",
      "RangeIndex: 2603 entries, 0 to 2602\n",
      "Data columns (total 14 columns):\n",
      " #   Column                             Non-Null Count  Dtype  \n",
      "---  ------                             --------------  -----  \n",
      " 0   times_world_rank                   2603 non-null   object \n",
      " 1   institution                        2603 non-null   object \n",
      " 2   country                            2603 non-null   object \n",
      " 3   teaching                           2603 non-null   float64\n",
      " 4   international                      2603 non-null   object \n",
      " 5   research                           2603 non-null   float64\n",
      " 6   citations                          2603 non-null   float64\n",
      " 7   income                             2603 non-null   object \n",
      " 8   times_score                        2603 non-null   object \n",
      " 9   num_students                       2544 non-null   object \n",
      " 10  student_staff_ratio                2544 non-null   float64\n",
      " 11  percentage_international_students  2536 non-null   object \n",
      " 12  female_male_ratio                  2370 non-null   object \n",
      " 13  year                               2603 non-null   int64  \n",
      "dtypes: float64(4), int64(1), object(9)\n",
      "memory usage: 284.8+ KB\n"
     ]
    }
   ],
   "source": [
    "df.info()"
   ]
  },
  {
   "cell_type": "markdown",
   "id": "f06db92d",
   "metadata": {},
   "source": [
    "Making variable num_students uniform variable type"
   ]
  },
  {
   "cell_type": "code",
   "execution_count": 8,
   "id": "d7737757",
   "metadata": {},
   "outputs": [],
   "source": [
    "df['num_students'] = df['num_students'].astype('object')"
   ]
  },
  {
   "cell_type": "code",
   "execution_count": 9,
   "id": "c1c100e9",
   "metadata": {},
   "outputs": [],
   "source": [
    "df['num_students'] = df['num_students'].replace(',','', regex=True)"
   ]
  },
  {
   "cell_type": "code",
   "execution_count": 10,
   "id": "65d019d0",
   "metadata": {},
   "outputs": [],
   "source": [
    "df['num_students'] = df['num_students'].astype('float64')"
   ]
  },
  {
   "cell_type": "markdown",
   "id": "2d6eee2e",
   "metadata": {},
   "source": [
    "Making variable times_world_rank a float"
   ]
  },
  {
   "cell_type": "code",
   "execution_count": 11,
   "id": "5dc8ecbd",
   "metadata": {},
   "outputs": [],
   "source": [
    "df = df.replace(str('201-225'), '201')\n",
    "df = df.replace(str('201-250'), '201')\n",
    "df = df.replace(str('226-250'), '226')\n",
    "df = df.replace(str('251-275'), '251')\n",
    "df = df.replace(str('251-300'), '251')\n",
    "df = df.replace(str('276-300'), '276')\n",
    "df = df.replace(str('301-350'), '301')\n",
    "df = df.replace(str('351-400'), '351')\n",
    "df = df.replace(str('350-400'), '351')\n",
    "df = df.replace(str('401-500'), '401')\n",
    "df = df.replace(str('501-600'), '501')\n",
    "df = df.replace(str('601-800'), '601')\n",
    "df['times_world_rank'] = df['times_world_rank'].replace('=','', regex=True)"
   ]
  },
  {
   "cell_type": "code",
   "execution_count": 12,
   "id": "6838a9b1",
   "metadata": {},
   "outputs": [],
   "source": [
    "df['times_world_rank'] = df['times_world_rank'].astype('float64')"
   ]
  },
  {
   "cell_type": "markdown",
   "id": "4e29051f",
   "metadata": {},
   "source": [
    "Make times_score a float"
   ]
  },
  {
   "cell_type": "code",
   "execution_count": 13,
   "id": "dbd2873c",
   "metadata": {},
   "outputs": [],
   "source": [
    "df['times_score'] = df['times_score'].replace('-', None)"
   ]
  },
  {
   "cell_type": "code",
   "execution_count": 14,
   "id": "943c7884",
   "metadata": {},
   "outputs": [
    {
     "data": {
      "text/plain": [
       "49.0    13\n",
       "51.1    12\n",
       "46.6    11\n",
       "56.1    10\n",
       "51.2    10\n",
       "        ..\n",
       "63.8     1\n",
       "87.3     1\n",
       "90.2     1\n",
       "90.7     1\n",
       "96.1     1\n",
       "Name: times_score, Length: 414, dtype: int64"
      ]
     },
     "execution_count": 14,
     "metadata": {},
     "output_type": "execute_result"
    }
   ],
   "source": [
    "df['times_score'].value_counts()"
   ]
  },
  {
   "cell_type": "code",
   "execution_count": 15,
   "id": "cb2407b6",
   "metadata": {},
   "outputs": [],
   "source": [
    "df['times_score'] = df['times_score'].astype('float64')"
   ]
  },
  {
   "cell_type": "markdown",
   "id": "7edc2cdb",
   "metadata": {},
   "source": [
    "Change Country names to match main document"
   ]
  },
  {
   "cell_type": "code",
   "execution_count": 16,
   "id": "43062619",
   "metadata": {},
   "outputs": [],
   "source": [
    "pd.options.display.max_columns = None\n",
    "pd.options.display.max_rows = None"
   ]
  },
  {
   "cell_type": "code",
   "execution_count": 17,
   "id": "c02f1a42",
   "metadata": {
    "scrolled": true
   },
   "outputs": [
    {
     "data": {
      "text/plain": [
       "United States of America     659\n",
       "United Kingdom               300\n",
       "Germany                      152\n",
       "Australia                    117\n",
       "Canada                       108\n",
       "Japan                         98\n",
       "Italy                         94\n",
       "China                         83\n",
       "Netherlands                   75\n",
       "France                        73\n",
       "Taiwan                        57\n",
       "Spain                         57\n",
       "South Korea                   57\n",
       "Sweden                        57\n",
       "Switzerland                   47\n",
       "Belgium                       37\n",
       "Hong Kong                     34\n",
       "Turkey                        33\n",
       "Finland                       32\n",
       "Republic of Ireland           31\n",
       "Austria                       31\n",
       "New Zealand                   30\n",
       "India                         30\n",
       "Denmark                       29\n",
       "Brazil                        25\n",
       "Norway                        21\n",
       "Russian Federation            20\n",
       "South Africa                  20\n",
       "Israel                        19\n",
       "Portugal                      18\n",
       "Czech Republic                13\n",
       "Poland                        13\n",
       "Iran                          13\n",
       "Singapore                     12\n",
       "Greece                        11\n",
       "Thailand                      11\n",
       "Chile                          8\n",
       "Hungary                        6\n",
       "Saudi Arabia                   6\n",
       "Estonia                        5\n",
       "Iceland                        5\n",
       "Colombia                       5\n",
       "Egypt                          5\n",
       "Malaysia                       5\n",
       "Romania                        4\n",
       "Mexico                         3\n",
       "Slovakia                       2\n",
       "Jordan                         2\n",
       "United Arab Emirates           2\n",
       "Pakistan                       2\n",
       "Slovenia                       2\n",
       "Ukraine                        2\n",
       "Morocco                        2\n",
       "Macau                          2\n",
       "Kenya                          1\n",
       "Argentina                      1\n",
       "Qatar                          1\n",
       "Oman                           1\n",
       "Nigeria                        1\n",
       "Latvia                         1\n",
       "Indonesia                      1\n",
       "Lebanon                        1\n",
       "Ghana                          1\n",
       "Bangladesh                     1\n",
       "Serbia                         1\n",
       "Belarus                        1\n",
       "Uganda                         1\n",
       "Unted Kingdom                  1\n",
       "Cyprus                         1\n",
       "Unisted States of America      1\n",
       "Luxembourg                     1\n",
       "Lithuania                      1\n",
       "Name: country, dtype: int64"
      ]
     },
     "execution_count": 17,
     "metadata": {},
     "output_type": "execute_result"
    }
   ],
   "source": [
    "df['country'].value_counts()"
   ]
  },
  {
   "cell_type": "code",
   "execution_count": 18,
   "id": "35e00e56",
   "metadata": {},
   "outputs": [],
   "source": [
    "df['country'] = df['country'].replace('Unisted States of America','United States of America', regex=True)"
   ]
  },
  {
   "cell_type": "code",
   "execution_count": 19,
   "id": "34d12656",
   "metadata": {},
   "outputs": [],
   "source": [
    "df['country'] = df['country'].replace('Republic of Ireland','Ireland', regex=True)"
   ]
  },
  {
   "cell_type": "code",
   "execution_count": 20,
   "id": "f99bd2f0",
   "metadata": {},
   "outputs": [],
   "source": [
    "df['country'] = df['country'].replace('Unted Kingdom','United Kingdom', regex=True)"
   ]
  },
  {
   "cell_type": "code",
   "execution_count": 21,
   "id": "758f0fdf",
   "metadata": {},
   "outputs": [],
   "source": [
    "df['country'] = df['country'].replace('Russian Federation','Russia', regex=True)"
   ]
  },
  {
   "cell_type": "code",
   "execution_count": 22,
   "id": "36ff52f9",
   "metadata": {},
   "outputs": [],
   "source": [
    "df['country'] = df['country'].replace('Hong Kong','China', regex=True)"
   ]
  },
  {
   "cell_type": "code",
   "execution_count": 23,
   "id": "f11a4668",
   "metadata": {},
   "outputs": [],
   "source": [
    "df['country'] = df['country'].replace('Taiwan','China', regex=True)"
   ]
  },
  {
   "cell_type": "markdown",
   "id": "83fb106a",
   "metadata": {},
   "source": [
    "add flags"
   ]
  },
  {
   "cell_type": "code",
   "execution_count": 24,
   "id": "7a7554bb",
   "metadata": {},
   "outputs": [],
   "source": [
    "df.loc[df['times_world_rank'] <=100, 'times_rank_flag_top_x'] = '100'\n",
    "df.loc[(df['times_world_rank'] > 100) & (df['times_world_rank'] <= 200), 'times_rank_flag_top_x'] = '200'\n",
    "df.loc[(df['times_world_rank'] > 200) & (df['times_world_rank'] <= 300), 'times_rank_flag_top_x'] = '300'\n",
    "df.loc[(df['times_world_rank'] > 300) & (df['times_world_rank'] <= 400), 'times_rank_flag_top_x'] = '400'\n",
    "df.loc[df['times_world_rank'] > 400, 'times_rank_flag_top_x'] = '1000'"
   ]
  },
  {
   "cell_type": "code",
   "execution_count": 25,
   "id": "a0d09610",
   "metadata": {},
   "outputs": [],
   "source": [
    "df['times_rank_flag_top_x'] = df['times_rank_flag_top_x'].astype('float64')"
   ]
  },
  {
   "cell_type": "markdown",
   "id": "7b778a9b",
   "metadata": {},
   "source": [
    "Create a continent column"
   ]
  },
  {
   "cell_type": "code",
   "execution_count": 26,
   "id": "2b5a37b6",
   "metadata": {},
   "outputs": [],
   "source": [
    "f = lambda x: pc.country_name_to_country_alpha2(x, cn_name_format = 'default')\n",
    "df['country_code'] = df['country'].apply(f)"
   ]
  },
  {
   "cell_type": "code",
   "execution_count": 27,
   "id": "db42b38f",
   "metadata": {},
   "outputs": [],
   "source": [
    "f2 = lambda x: pc.country_alpha2_to_continent_code(x)\n",
    "df['continent_code'] = df['country_code'].apply(f2)"
   ]
  },
  {
   "cell_type": "code",
   "execution_count": 28,
   "id": "ac3220af",
   "metadata": {},
   "outputs": [
    {
     "data": {
      "text/plain": [
       "EU    1143\n",
       "NA     771\n",
       "AS     472\n",
       "OC     147\n",
       "SA      39\n",
       "AF      31\n",
       "Name: continent_code, dtype: int64"
      ]
     },
     "execution_count": 28,
     "metadata": {},
     "output_type": "execute_result"
    }
   ],
   "source": [
    "df['continent_code'].value_counts()"
   ]
  },
  {
   "cell_type": "code",
   "execution_count": 29,
   "id": "ebcfdfde",
   "metadata": {
    "scrolled": true
   },
   "outputs": [
    {
     "name": "stdout",
     "output_type": "stream",
     "text": [
      "<class 'pandas.core.frame.DataFrame'>\n",
      "RangeIndex: 2603 entries, 0 to 2602\n",
      "Data columns (total 17 columns):\n",
      " #   Column                             Non-Null Count  Dtype  \n",
      "---  ------                             --------------  -----  \n",
      " 0   times_world_rank                   2603 non-null   float64\n",
      " 1   institution                        2603 non-null   object \n",
      " 2   country                            2603 non-null   object \n",
      " 3   teaching                           2603 non-null   float64\n",
      " 4   international                      2603 non-null   object \n",
      " 5   research                           2603 non-null   float64\n",
      " 6   citations                          2603 non-null   float64\n",
      " 7   income                             2603 non-null   object \n",
      " 8   times_score                        1201 non-null   float64\n",
      " 9   num_students                       2544 non-null   float64\n",
      " 10  student_staff_ratio                2544 non-null   float64\n",
      " 11  percentage_international_students  2536 non-null   object \n",
      " 12  female_male_ratio                  2370 non-null   object \n",
      " 13  year                               2603 non-null   int64  \n",
      " 14  times_rank_flag_top_x              2603 non-null   float64\n",
      " 15  country_code                       2603 non-null   object \n",
      " 16  continent_code                     2603 non-null   object \n",
      "dtypes: float64(8), int64(1), object(8)\n",
      "memory usage: 345.8+ KB\n"
     ]
    }
   ],
   "source": [
    "df.info()"
   ]
  },
  {
   "cell_type": "markdown",
   "id": "7cc19957",
   "metadata": {},
   "source": [
    "Export File"
   ]
  },
  {
   "cell_type": "code",
   "execution_count": 30,
   "id": "cbf8e9fb",
   "metadata": {},
   "outputs": [],
   "source": [
    "df.to_pickle(os.path.join(path, 'Prepared Data', 'times_df_cleaned.pkl'))"
   ]
  },
  {
   "cell_type": "code",
   "execution_count": 31,
   "id": "1d78e2c0",
   "metadata": {},
   "outputs": [],
   "source": [
    "df.to_csv(os.path.join(path, 'Prepared Data', 'times_df_cleaned_csv.csv'))"
   ]
  }
 ],
 "metadata": {
  "kernelspec": {
   "display_name": "Python 3 (ipykernel)",
   "language": "python",
   "name": "python3"
  },
  "language_info": {
   "codemirror_mode": {
    "name": "ipython",
    "version": 3
   },
   "file_extension": ".py",
   "mimetype": "text/x-python",
   "name": "python",
   "nbconvert_exporter": "python",
   "pygments_lexer": "ipython3",
   "version": "3.9.13"
  }
 },
 "nbformat": 4,
 "nbformat_minor": 5
}
